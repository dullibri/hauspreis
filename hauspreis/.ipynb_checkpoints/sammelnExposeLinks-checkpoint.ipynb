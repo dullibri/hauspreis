{
 "cells": [
  {
   "cell_type": "markdown",
   "metadata": {},
   "source": [
    "# Sammeln der Expose-Links"
   ]
  },
  {
   "cell_type": "code",
   "execution_count": 18,
   "metadata": {},
   "outputs": [],
   "source": [
    "import re\n",
    "import time\n",
    "from itertools import chain\n",
    "from collections import OrderedDict\n",
    "from bs4 import BeautifulSoup\n",
    "from selenium import webdriver"
   ]
  },
  {
   "cell_type": "code",
   "execution_count": 2,
   "metadata": {},
   "outputs": [],
   "source": [
    "url = 'https://www.immowelt.de/liste/hamburg/haeuser/kaufen?sort=relevanz'\n",
    "driver = webdriver.Firefox()\n",
    "def soup_get(url):\n",
    "    driver.get(url)\n",
    "    driver.execute_script(\"window.scrollTo(0, document.body.scrollHeight);\")\n",
    "    time.sleep(4)\n",
    "    html = driver.execute_script('return document.documentElement.outerHTML')\n",
    "    \n",
    "    return BeautifulSoup(html, 'html.parser')\n",
    "\n",
    "sel_soup = soup_get(url)\n",
    "#print(len(sel_soup.findAll(\"img\")))"
   ]
  },
  {
   "cell_type": "code",
   "execution_count": 3,
   "metadata": {},
   "outputs": [],
   "source": [
    "def href_finder(soup_ele):\n",
    "    return [a['href'] for a in soup_ele.findAll('a',href=True)]\n",
    "    \n",
    "hrefs = href_finder(sel_soup)"
   ]
  },
  {
   "cell_type": "code",
   "execution_count": 4,
   "metadata": {},
   "outputs": [],
   "source": [
    "# get number of pages\n",
    "cps = [re.findall('cp=(\\w+)',a) for a in hrefs]\n",
    "cps = list(filter(None,cps))\n",
    "num_pages = max([int(b[0]) for b in cps])"
   ]
  },
  {
   "cell_type": "code",
   "execution_count": 5,
   "metadata": {},
   "outputs": [],
   "source": [
    "def href_extr(hrefs):\n",
    "    \"\"\"\n",
    "    Takes soup element of one search page of immowelt and returns\n",
    "    all the hrefs as list of texts\n",
    "    \"\"\"\n",
    "    exposes = [re.findall('\\/expose\\/(\\w+)',a) for a in hrefs]\n",
    "    exposes = [a[0] for a in exposes if len(a)!=0]\n",
    "    exposes = list(OrderedDict.fromkeys(exposes))\n",
    "    return exposes"
   ]
  },
  {
   "cell_type": "code",
   "execution_count": 6,
   "metadata": {},
   "outputs": [],
   "source": [
    "def projekt_finder(hrefs):\n",
    "    projekts = [re.findall('\\/projekte\\/expose\\/(\\w+)',a) for a in hrefs]\n",
    "    #\n",
    "    projekts = list(filter(None,projekts))\n",
    "    projekts = [*projekts]\n",
    "    #projekts = list(OrderedDict.fromkeys(projekts))\n",
    "    return list(set(chain.from_iterable(projekts)))"
   ]
  },
  {
   "cell_type": "code",
   "execution_count": 7,
   "metadata": {},
   "outputs": [],
   "source": [
    "Exposes = list()\n",
    "Projekte = list()\n",
    "Exposes = Exposes + href_extr(hrefs)\n",
    "Projekte = Projekte + projekt_finder(hrefs)"
   ]
  },
  {
   "cell_type": "code",
   "execution_count": 8,
   "metadata": {},
   "outputs": [],
   "source": [
    "for a in range(2,num_pages+1):\n",
    "    new_url = url+'&cp='+str(a)\n",
    "    soup_new = soup_get(new_url)\n",
    "    href_new = href_finder(soup_new)\n",
    "    Exposes = Exposes+href_extr(href_new)\n",
    "    Projekte = Projekte + projekt_finder(href_new)\n"
   ]
  },
  {
   "cell_type": "code",
   "execution_count": 11,
   "metadata": {},
   "outputs": [],
   "source": [
    "a +=1\n",
    "new_url = url+'&cp='+str(a)\n",
    "soup_new = soup_get(new_url)\n",
    "href_new = href_finder(soup_new)\n",
    "Exposes = Exposes+href_extr(href_new)\n",
    "Projekte = Projekte + projekt_finder(href_new)"
   ]
  },
  {
   "cell_type": "code",
   "execution_count": 20,
   "metadata": {},
   "outputs": [],
   "source": [
    "with open('Expose.txt','w') as f:\n",
    "    f.write(str(Exposes))"
   ]
  },
  {
   "cell_type": "markdown",
   "metadata": {},
   "source": [
    "An alternative way of looping through pages:\n",
    "get element on which to click\n",
    "\n",
    "```python\n",
    "text = driver.find_element_by_id('nlbPlus')\n",
    "```\n",
    "\n",
    "\n",
    "click element \n",
    "```\n",
    "text.click()\n",
    "```\n",
    "\n",
    "switch selenium driver to read new page\n",
    "```\n",
    "driver.switch_to_window(driver.window_handles[0]) \n",
    "```"
   ]
  }
 ],
 "metadata": {
  "kernelspec": {
   "display_name": "Python 3",
   "language": "python",
   "name": "python3"
  },
  "language_info": {
   "codemirror_mode": {
    "name": "ipython",
    "version": 3
   },
   "file_extension": ".py",
   "mimetype": "text/x-python",
   "name": "python",
   "nbconvert_exporter": "python",
   "pygments_lexer": "ipython3",
   "version": "3.7.1"
  }
 },
 "nbformat": 4,
 "nbformat_minor": 2
}
